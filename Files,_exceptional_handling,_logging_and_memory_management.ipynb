{
  "nbformat": 4,
  "nbformat_minor": 0,
  "metadata": {
    "colab": {
      "provenance": []
    },
    "kernelspec": {
      "name": "python3",
      "display_name": "Python 3"
    },
    "language_info": {
      "name": "python"
    }
  },
  "cells": [
    {
      "cell_type": "markdown",
      "source": [
        "**Files, exceptional handling, logging and\n",
        "memory management Questions**"
      ],
      "metadata": {
        "id": "dKfRuM8vSssW"
      }
    },
    {
      "cell_type": "markdown",
      "source": [
        "1.  What is the difference between interpreted and compiled languages?"
      ],
      "metadata": {
        "id": "d7U_w2c6SwPz"
      }
    },
    {
      "cell_type": "markdown",
      "source": [
        "=>\tInterpreted languages execute code line by line, while compiled languages convert the entire code into machine language before execution."
      ],
      "metadata": {
        "id": "fOX95SXvTOxp"
      }
    },
    {
      "cell_type": "markdown",
      "source": [
        "2.  What is exception handling in Python?"
      ],
      "metadata": {
        "id": "xvb4_xAqT2V_"
      }
    },
    {
      "cell_type": "markdown",
      "source": [
        "=> Exception handling is a mechanism to handle runtime errors using try, except, finally, and raise blocks."
      ],
      "metadata": {
        "id": "vqOlA7asT8Sk"
      }
    },
    {
      "cell_type": "markdown",
      "source": [
        "3.  What is the purpose of the finally block in exception handling?"
      ],
      "metadata": {
        "id": "aR-2_3dZT9ZR"
      }
    },
    {
      "cell_type": "markdown",
      "source": [
        "=> The finally block executes code regardless of whether an exception occurs, often used for cleanup tasks."
      ],
      "metadata": {
        "id": "lXXoxuC9T-lm"
      }
    },
    {
      "cell_type": "markdown",
      "source": [
        "4.  What is logging in Python?"
      ],
      "metadata": {
        "id": "J2QUVUgST_4m"
      }
    },
    {
      "cell_type": "markdown",
      "source": [
        "=> Logging is a module in Python used to track events in a program, helpful for debugging and monitoring."
      ],
      "metadata": {
        "id": "8HEdzCVHUBEM"
      }
    },
    {
      "cell_type": "markdown",
      "source": [
        "5.  What is the significance of the __del__ method in Python?"
      ],
      "metadata": {
        "id": "AvTtumCOUCsH"
      }
    },
    {
      "cell_type": "markdown",
      "source": [
        "=> The __del__ method is a destructor that is called when an object is deleted or garbage-collected."
      ],
      "metadata": {
        "id": "cXWCDR26UEIl"
      }
    },
    {
      "cell_type": "markdown",
      "source": [
        "6.  What is the difference between import and from ... import in Python?"
      ],
      "metadata": {
        "id": "ClLTtX0LUEll"
      }
    },
    {
      "cell_type": "markdown",
      "source": [
        "=> import imports the whole module, while from ... import imports specific functions or variables from a module."
      ],
      "metadata": {
        "id": "YvgHGv3qUF1A"
      }
    },
    {
      "cell_type": "markdown",
      "source": [
        "7.  How can you handle multiple exceptions in Python?"
      ],
      "metadata": {
        "id": "9RnH7ES8UH3F"
      }
    },
    {
      "cell_type": "markdown",
      "source": [
        "=> Multiple exceptions can be handled using multiple except blocks or a single except block with a tuple of exceptions."
      ],
      "metadata": {
        "id": "fH8fU8mzUJAg"
      }
    },
    {
      "cell_type": "markdown",
      "source": [
        "8.  What is the purpose of the with statement when handling files in Python?"
      ],
      "metadata": {
        "id": "36VvTzmJUJeG"
      }
    },
    {
      "cell_type": "markdown",
      "source": [
        "=> The with statement ensures that a file is properly closed after its suite finishes execution."
      ],
      "metadata": {
        "id": "CdVWuuBzULlv"
      }
    },
    {
      "cell_type": "markdown",
      "source": [
        "9.  What is the difference between multithreading and multiprocessing?"
      ],
      "metadata": {
        "id": "uh-1_pGDUMbh"
      }
    },
    {
      "cell_type": "markdown",
      "source": [
        "=> Multithreading allows multiple threads within the same process, while multiprocessing involves multiple processes with separate memory spaces."
      ],
      "metadata": {
        "id": "4iNfEBBkUNp5"
      }
    },
    {
      "cell_type": "markdown",
      "source": [
        "10.  What are the advantages of using logging in a program?"
      ],
      "metadata": {
        "id": "JfmbyOfGUO9g"
      }
    },
    {
      "cell_type": "markdown",
      "source": [
        "=> It helps in debugging, tracking errors, maintaining logs, and monitoring application behavior."
      ],
      "metadata": {
        "id": "0pPe3G_oURFm"
      }
    },
    {
      "cell_type": "markdown",
      "source": [
        "11.  What is memory management in Python?"
      ],
      "metadata": {
        "id": "TSO3NzaNUR69"
      }
    },
    {
      "cell_type": "markdown",
      "source": [
        "=> Python manages memory using automatic garbage collection and dynamic memory allocation."
      ],
      "metadata": {
        "id": "PP5PZhfYUSVj"
      }
    },
    {
      "cell_type": "markdown",
      "source": [
        "12.  What are the basic steps involved in exception handling in Python?"
      ],
      "metadata": {
        "id": "3zmV-9pHUSSE"
      }
    },
    {
      "cell_type": "markdown",
      "source": [
        "=> The basic steps include using try to wrap code, except to catch exceptions, finally for cleanup, and raise to trigger exceptions manually."
      ],
      "metadata": {
        "id": "uRZVavKSUSPY"
      }
    },
    {
      "cell_type": "markdown",
      "source": [
        "13.  Why is memory management important in Python?"
      ],
      "metadata": {
        "id": "hf9NqSYyUSMs"
      }
    },
    {
      "cell_type": "markdown",
      "source": [
        "=> Efficient memory management prevents memory leaks and ensures optimal resource utilization."
      ],
      "metadata": {
        "id": "7qbMEu7EUSKO"
      }
    },
    {
      "cell_type": "markdown",
      "source": [
        "14.  What is the role of try and except in exception handling?"
      ],
      "metadata": {
        "id": "giOPZoVAUSDN"
      }
    },
    {
      "cell_type": "markdown",
      "source": [
        "=> try defines a block of code that may raise exceptions, and except handles specific exceptions that occur."
      ],
      "metadata": {
        "id": "dVPAyZ0AUR_0"
      }
    },
    {
      "cell_type": "markdown",
      "source": [
        "15.  How does Python's garbage collection system work?"
      ],
      "metadata": {
        "id": "pD-L9Wb1UiER"
      }
    },
    {
      "cell_type": "markdown",
      "source": [
        "=> Python uses reference counting and a cyclic garbage collector to manage memory automatically."
      ],
      "metadata": {
        "id": "76R8siOqUjIL"
      }
    },
    {
      "cell_type": "markdown",
      "source": [
        "16.  What is the purpose of the else block in exception handling?"
      ],
      "metadata": {
        "id": "8PdPnCYAUkdr"
      }
    },
    {
      "cell_type": "markdown",
      "source": [
        "=> The else block executes code if no exceptions occur in the try block."
      ],
      "metadata": {
        "id": "dgkc8PRnUlmN"
      }
    },
    {
      "cell_type": "markdown",
      "source": [
        "17.  What are the common logging levels in Python?"
      ],
      "metadata": {
        "id": "6djFjT_MUmxX"
      }
    },
    {
      "cell_type": "markdown",
      "source": [
        "=> DEBUG, INFO, WARNING, ERROR, and CRITICAL."
      ],
      "metadata": {
        "id": "F3BTTakNUoC_"
      }
    },
    {
      "cell_type": "markdown",
      "source": [
        "18.  What is the difference between os.fork() and multiprocessing in Python?"
      ],
      "metadata": {
        "id": "3nmBFldtUpa2"
      }
    },
    {
      "cell_type": "markdown",
      "source": [
        "=> os.fork() creates a child process by duplicating the parent process, whereas multiprocessing provides a higher-level interface for parallel execution."
      ],
      "metadata": {
        "id": "0tz-WZLVUqkM"
      }
    },
    {
      "cell_type": "markdown",
      "source": [
        "19.  What is the importance of closing a file in Python?"
      ],
      "metadata": {
        "id": "zwULxkbsUr1o"
      }
    },
    {
      "cell_type": "markdown",
      "source": [
        "=> Closing a file ensures data is saved properly and frees up system resources."
      ],
      "metadata": {
        "id": "BIXEfhjbUtV8"
      }
    },
    {
      "cell_type": "markdown",
      "source": [
        "20.  What is the difference between file.read() and file.readline() in Python?"
      ],
      "metadata": {
        "id": "I0HHIzuKUt0N"
      }
    },
    {
      "cell_type": "markdown",
      "source": [
        "=> file.read() reads the entire file, while file.readline() reads one line at a time."
      ],
      "metadata": {
        "id": "Kt-FOpa6Uvjv"
      }
    },
    {
      "cell_type": "markdown",
      "source": [
        "21.  What is the logging module in Python used for?"
      ],
      "metadata": {
        "id": "2CLs5XBxUwty"
      }
    },
    {
      "cell_type": "markdown",
      "source": [
        "=> It is used to record events, errors, and messages for debugging and tracking application flow."
      ],
      "metadata": {
        "id": "KdbBDKcLUx47"
      }
    },
    {
      "cell_type": "markdown",
      "source": [
        "22.  What is the os module in Python used for in file handling?"
      ],
      "metadata": {
        "id": "WdHTkyUUUzQG"
      }
    },
    {
      "cell_type": "markdown",
      "source": [
        "=> The os module provides functions to interact with the file system, such as reading, writing, and deleting files."
      ],
      "metadata": {
        "id": "85EpUJFOUzq4"
      }
    },
    {
      "cell_type": "markdown",
      "source": [
        "23.  What are the challenges associated with memory management in Python?"
      ],
      "metadata": {
        "id": "EjSmPb3lU1YF"
      }
    },
    {
      "cell_type": "markdown",
      "source": [
        "=> Challenges include memory fragmentation, cyclic references, and inefficient garbage collection in large-scale applications."
      ],
      "metadata": {
        "id": "6VypB4_zU2uN"
      }
    },
    {
      "cell_type": "markdown",
      "source": [
        "24.  How do you raise an exception manually in Python?"
      ],
      "metadata": {
        "id": "BlaCJpUbU4Au"
      }
    },
    {
      "cell_type": "markdown",
      "source": [
        "=> Use the raise keyword followed by an exception type, e.g., raise ValueError(\"Invalid input\")."
      ],
      "metadata": {
        "id": "_abIG1RdU5RQ"
      }
    },
    {
      "cell_type": "markdown",
      "source": [
        "25.  Why is it important to use multithreading in certain applications?"
      ],
      "metadata": {
        "id": "rgwc82VoU6SN"
      }
    },
    {
      "cell_type": "markdown",
      "source": [
        "=> Multithreading improves performance in I/O-bound tasks, such as web scraping, file handling, and network operations."
      ],
      "metadata": {
        "id": "6gtPQl5BU7nH"
      }
    },
    {
      "cell_type": "markdown",
      "source": [
        "## **Practical Questions**"
      ],
      "metadata": {
        "id": "bmkpsRTzVe3j"
      }
    },
    {
      "cell_type": "markdown",
      "source": [
        "1. How can you open a file for writing in Python and write a string to it?"
      ],
      "metadata": {
        "id": "Qjdwc28PViNL"
      }
    },
    {
      "cell_type": "code",
      "source": [
        "with open(\"output.txt\", \"w\") as file:\n",
        "    file.write(\"Hello, this is a test.\")"
      ],
      "metadata": {
        "id": "y06_vjjYV_QO"
      },
      "execution_count": 1,
      "outputs": []
    },
    {
      "cell_type": "markdown",
      "source": [
        "2. Write a Python program to read the contents of a file and print each line."
      ],
      "metadata": {
        "id": "jCamCMZ9WK0y"
      }
    },
    {
      "cell_type": "code",
      "source": [
        "with open(\"output.txt\", \"r\") as file:\n",
        "    for line in file:\n",
        "        print(line.strip())\n"
      ],
      "metadata": {
        "colab": {
          "base_uri": "https://localhost:8080/"
        },
        "id": "w2x2D421WM0L",
        "outputId": "4f66316c-57d5-498f-a631-a10c19bf28e0"
      },
      "execution_count": 2,
      "outputs": [
        {
          "output_type": "stream",
          "name": "stdout",
          "text": [
            "Hello, this is a test.\n"
          ]
        }
      ]
    },
    {
      "cell_type": "markdown",
      "source": [
        "3. How would you handle a case where the file doesn't exist while trying to open it for reading?"
      ],
      "metadata": {
        "id": "m9evVPH0WQvL"
      }
    },
    {
      "cell_type": "code",
      "source": [
        "try:\n",
        "    with open(\"nonexistent.txt\", \"r\") as file:\n",
        "        print(file.read())\n",
        "except FileNotFoundError:\n",
        "    print(\"File not found.\")"
      ],
      "metadata": {
        "colab": {
          "base_uri": "https://localhost:8080/"
        },
        "id": "CuYZHFSbWSfy",
        "outputId": "161ae515-374b-447e-ffd6-6e41d908f114"
      },
      "execution_count": 4,
      "outputs": [
        {
          "output_type": "stream",
          "name": "stdout",
          "text": [
            "File not found.\n"
          ]
        }
      ]
    },
    {
      "cell_type": "markdown",
      "source": [
        "4. Write a Python script that reads from one file and writes its content to another file."
      ],
      "metadata": {
        "id": "fY2MNUOJWU91"
      }
    },
    {
      "cell_type": "code",
      "source": [
        "with open(\"source.txt\", \"r\") as source, open(\"destination.txt\", \"w\") as destination:\n",
        "    destination.write(source.read())"
      ],
      "metadata": {
        "id": "A03gdTppWo1a"
      },
      "execution_count": null,
      "outputs": []
    },
    {
      "cell_type": "markdown",
      "source": [
        "5. How would you catch and handle division by zero error in Python?"
      ],
      "metadata": {
        "id": "2s-gXTGXWrE0"
      }
    },
    {
      "cell_type": "code",
      "source": [
        "try:\n",
        "    result = 10 / 0\n",
        "except ZeroDivisionError:\n",
        "    print(\"Cannot divide by zero.\")"
      ],
      "metadata": {
        "colab": {
          "base_uri": "https://localhost:8080/"
        },
        "id": "uxITTdCqWtn4",
        "outputId": "581767de-a9cb-4dd2-9291-b7e23348837e"
      },
      "execution_count": 6,
      "outputs": [
        {
          "output_type": "stream",
          "name": "stdout",
          "text": [
            "Cannot divide by zero.\n"
          ]
        }
      ]
    },
    {
      "cell_type": "markdown",
      "source": [
        "6. Write a Python program that logs an error message to a log file when a division by zero exception occurs."
      ],
      "metadata": {
        "id": "6JntQ8M2WzqJ"
      }
    },
    {
      "cell_type": "code",
      "source": [
        "import logging\n",
        "\n",
        "logging.basicConfig(filename=\"error.log\", level=logging.ERROR)\n",
        "\n",
        "try:\n",
        "    result = 10 / 0\n",
        "except ZeroDivisionError as e:\n",
        "    logging.error(\"Division by zero error occurred: %s\", e)"
      ],
      "metadata": {
        "colab": {
          "base_uri": "https://localhost:8080/"
        },
        "id": "CfwmZySjW0IC",
        "outputId": "df87abec-107f-41fb-8584-c5e8d7c0e534"
      },
      "execution_count": 7,
      "outputs": [
        {
          "output_type": "stream",
          "name": "stderr",
          "text": [
            "ERROR:root:Division by zero error occurred: division by zero\n"
          ]
        }
      ]
    },
    {
      "cell_type": "markdown",
      "source": [
        "7. How do you log information at different levels (INFO, ERROR, WARNING) in Python using the logging module?"
      ],
      "metadata": {
        "id": "WBUdytqEW7F1"
      }
    },
    {
      "cell_type": "code",
      "source": [
        "import logging\n",
        "\n",
        "logging.basicConfig(level=logging.DEBUG)\n",
        "\n",
        "logging.info(\"This is an info message\")\n",
        "logging.warning(\"This is a warning\")\n",
        "logging.error(\"This is an error\")"
      ],
      "metadata": {
        "colab": {
          "base_uri": "https://localhost:8080/"
        },
        "id": "zhHpqEU6W7q2",
        "outputId": "f7f6c860-a787-4fdc-aefc-d6242f2e290b"
      },
      "execution_count": 8,
      "outputs": [
        {
          "output_type": "stream",
          "name": "stderr",
          "text": [
            "WARNING:root:This is a warning\n",
            "ERROR:root:This is an error\n"
          ]
        }
      ]
    },
    {
      "cell_type": "markdown",
      "source": [
        "8. Write a program to handle a file opening error using exception handling."
      ],
      "metadata": {
        "id": "8Rkkk2BnXAH4"
      }
    },
    {
      "cell_type": "code",
      "source": [
        "try:\n",
        "    with open(\"nonexistent.txt\", \"r\") as file:\n",
        "        print(file.read())\n",
        "except FileNotFoundError:\n",
        "    print(\"File not found error.\")"
      ],
      "metadata": {
        "colab": {
          "base_uri": "https://localhost:8080/"
        },
        "id": "3_Y-Du8wXEDp",
        "outputId": "c49c1c99-c271-4d8c-bf68-d72b4c000380"
      },
      "execution_count": 9,
      "outputs": [
        {
          "output_type": "stream",
          "name": "stdout",
          "text": [
            "File not found error.\n"
          ]
        }
      ]
    },
    {
      "cell_type": "markdown",
      "source": [
        "9. How can you read a file line by line and store its content in a list in Python?"
      ],
      "metadata": {
        "id": "9Dpc_bi5XF_C"
      }
    },
    {
      "cell_type": "code",
      "source": [
        "with open(\"example.txt\", \"r\") as file:\n",
        "    lines = file.readlines()\n",
        "print(lines)"
      ],
      "metadata": {
        "id": "hAnR3HHkXK88"
      },
      "execution_count": null,
      "outputs": []
    },
    {
      "cell_type": "markdown",
      "source": [
        "10. How can you append data to an existing file in Python?"
      ],
      "metadata": {
        "id": "XkHzXzwRXODC"
      }
    },
    {
      "cell_type": "code",
      "source": [
        "with open(\"example.txt\", \"a\") as file:\n",
        "    file.write(\"\\nNew line appended.\")"
      ],
      "metadata": {
        "id": "IG9iaxGxXPe6"
      },
      "execution_count": 11,
      "outputs": []
    },
    {
      "cell_type": "markdown",
      "source": [
        "11. Write a Python program that uses a try-except block to handle an error when attempting to access a dictionary key that doesn't exist."
      ],
      "metadata": {
        "id": "xtIELfiOXR3h"
      }
    },
    {
      "cell_type": "code",
      "source": [
        "data = {\"name\": \"Alice\"}\n",
        "\n",
        "try:\n",
        "    print(data[\"age\"])\n",
        "except KeyError:\n",
        "    print(\"Key not found.\")"
      ],
      "metadata": {
        "colab": {
          "base_uri": "https://localhost:8080/"
        },
        "id": "JSWm3SNxXULC",
        "outputId": "f21dfce5-2f7e-4631-f1b9-688ce37bd9ef"
      },
      "execution_count": 12,
      "outputs": [
        {
          "output_type": "stream",
          "name": "stdout",
          "text": [
            "Key not found.\n"
          ]
        }
      ]
    },
    {
      "cell_type": "markdown",
      "source": [
        "12. Write a program that demonstrates using multiple except blocks to handle different types of exceptions."
      ],
      "metadata": {
        "id": "x_A3ihTdXV-m"
      }
    },
    {
      "cell_type": "code",
      "source": [
        "try:\n",
        "    num = int(\"invalid\")\n",
        "    result = 10 / 0\n",
        "except ValueError:\n",
        "    print(\"Invalid value.\")\n",
        "except ZeroDivisionError:\n",
        "    print(\"Cannot divide by zero.\")"
      ],
      "metadata": {
        "colab": {
          "base_uri": "https://localhost:8080/"
        },
        "id": "Vc1nrsZzXYJR",
        "outputId": "326bf8e2-3565-41a0-ea71-432544501c84"
      },
      "execution_count": 13,
      "outputs": [
        {
          "output_type": "stream",
          "name": "stdout",
          "text": [
            "Invalid value.\n"
          ]
        }
      ]
    },
    {
      "cell_type": "markdown",
      "source": [
        "13. How would you check if a file exists before attempting to read it in Python?"
      ],
      "metadata": {
        "id": "iqMBLRHqXbWu"
      }
    },
    {
      "cell_type": "code",
      "source": [
        "import os\n",
        "\n",
        "if os.path.exists(\"example.txt\"):\n",
        "    with open(\"example.txt\", \"r\") as file:\n",
        "        print(file.read())\n",
        "else:\n",
        "    print(\"File does not exist.\")"
      ],
      "metadata": {
        "colab": {
          "base_uri": "https://localhost:8080/"
        },
        "id": "dtpo_BJkXevC",
        "outputId": "1bbdc91b-a180-418b-d70e-8a3c054bfb3e"
      },
      "execution_count": 14,
      "outputs": [
        {
          "output_type": "stream",
          "name": "stdout",
          "text": [
            "\n",
            "New line appended.\n"
          ]
        }
      ]
    },
    {
      "cell_type": "markdown",
      "source": [
        "14. Write a program that uses the logging module to log both informational and error messages."
      ],
      "metadata": {
        "id": "rTnOSkt8XgIx"
      }
    },
    {
      "cell_type": "code",
      "source": [
        "import logging\n",
        "\n",
        "logging.basicConfig(filename=\"logfile.log\", level=logging.INFO)\n",
        "\n",
        "logging.info(\"This is an informational message.\")\n",
        "logging.error(\"This is an error message.\")"
      ],
      "metadata": {
        "colab": {
          "base_uri": "https://localhost:8080/"
        },
        "id": "jdWmRdGjXidQ",
        "outputId": "27c77adb-560d-4f8d-d1aa-7b23cda60292"
      },
      "execution_count": 15,
      "outputs": [
        {
          "output_type": "stream",
          "name": "stderr",
          "text": [
            "ERROR:root:This is an error message.\n"
          ]
        }
      ]
    },
    {
      "cell_type": "markdown",
      "source": [
        "15. Write a Python program that prints the content of a file and handles the case when the file is empty."
      ],
      "metadata": {
        "id": "7hA2A6OWXjvE"
      }
    },
    {
      "cell_type": "code",
      "source": [
        "with open(\"empty.txt\", \"r\") as file:\n",
        "    content = file.read()\n",
        "    if not content:\n",
        "        print(\"The file is empty.\")\n",
        "    else:\n",
        "        print(content)"
      ],
      "metadata": {
        "id": "g1smq1M0XoSO"
      },
      "execution_count": null,
      "outputs": []
    },
    {
      "cell_type": "markdown",
      "source": [
        "16. Demonstrate how to use memory profiling to check the memory usage of a small program."
      ],
      "metadata": {
        "id": "v6UHiQFBXpIR"
      }
    },
    {
      "cell_type": "code",
      "source": [
        "from memory_profiler import profile\n",
        "\n",
        "@profile\n",
        "def my_function():\n",
        "    lst = [i for i in range(100000)]\n",
        "    return lst\n",
        "\n",
        "my_function()"
      ],
      "metadata": {
        "id": "4bXDtU3hXu0b"
      },
      "execution_count": null,
      "outputs": []
    },
    {
      "cell_type": "markdown",
      "source": [
        "17. Write a Python program to create and write a list of numbers to a file, one number per line."
      ],
      "metadata": {
        "id": "EZgxwF4CXvjT"
      }
    },
    {
      "cell_type": "code",
      "source": [
        "numbers = [1, 2, 3, 4, 5]\n",
        "\n",
        "with open(\"numbers.txt\", \"w\") as file:\n",
        "    for num in numbers:\n",
        "        file.write(f\"{num}\\n\")"
      ],
      "metadata": {
        "id": "oq3ivG4uXyaO"
      },
      "execution_count": 18,
      "outputs": []
    },
    {
      "cell_type": "markdown",
      "source": [
        "18. How would you implement a basic logging setup that logs to a file with rotation after 1MB?"
      ],
      "metadata": {
        "id": "zBqydlpFX0ID"
      }
    },
    {
      "cell_type": "code",
      "source": [
        "import logging\n",
        "from logging.handlers import RotatingFileHandler\n",
        "\n",
        "handler = RotatingFileHandler(\"app.log\", maxBytes=1048576, backupCount=5)\n",
        "logging.basicConfig(handlers=[handler], level=logging.INFO)\n",
        "\n",
        "logging.info(\"This is a test log.\")"
      ],
      "metadata": {
        "id": "VpOC4fvMX2k2"
      },
      "execution_count": 19,
      "outputs": []
    },
    {
      "cell_type": "markdown",
      "source": [
        "19. Write a program that handles both IndexError and KeyError using a try-except block."
      ],
      "metadata": {
        "id": "HCzeTFXEX40e"
      }
    },
    {
      "cell_type": "code",
      "source": [
        "data = {\"name\": \"Alice\"}\n",
        "lst = [1, 2, 3]\n",
        "\n",
        "try:\n",
        "    print(data[\"age\"])\n",
        "    print(lst[5])\n",
        "except KeyError:\n",
        "    print(\"Key not found.\")\n",
        "except IndexError:\n",
        "    print(\"Index out of range.\")"
      ],
      "metadata": {
        "colab": {
          "base_uri": "https://localhost:8080/"
        },
        "id": "mWX6hbUYX7fe",
        "outputId": "c9d02f7a-2ae2-4610-bf13-a63a1e88c6e4"
      },
      "execution_count": 20,
      "outputs": [
        {
          "output_type": "stream",
          "name": "stdout",
          "text": [
            "Key not found.\n"
          ]
        }
      ]
    },
    {
      "cell_type": "markdown",
      "source": [
        "20. How would you open a file and read its contents using a context manager in Python?"
      ],
      "metadata": {
        "id": "_gUkDEmrX85t"
      }
    },
    {
      "cell_type": "code",
      "source": [
        "with open(\"example.txt\", \"r\") as file:\n",
        "    content = file.read()\n",
        "print(content)\n"
      ],
      "metadata": {
        "colab": {
          "base_uri": "https://localhost:8080/"
        },
        "id": "XrCnDNQIX_ja",
        "outputId": "26d63990-6c96-43f3-a8c7-7ac69a817c72"
      },
      "execution_count": 21,
      "outputs": [
        {
          "output_type": "stream",
          "name": "stdout",
          "text": [
            "\n",
            "New line appended.\n"
          ]
        }
      ]
    },
    {
      "cell_type": "markdown",
      "source": [
        "21. Write a Python program that reads a file and prints the number of occurrences of a specific word."
      ],
      "metadata": {
        "id": "M3R3g3rnYByn"
      }
    },
    {
      "cell_type": "code",
      "source": [
        "word = \"Python\"\n",
        "\n",
        "with open(\"example.txt\", \"r\") as file:\n",
        "    content = file.read()\n",
        "    print(content.count(word))"
      ],
      "metadata": {
        "colab": {
          "base_uri": "https://localhost:8080/"
        },
        "id": "nITn9DPeYEzK",
        "outputId": "8da86a10-adab-4611-bbcb-80e56251b4f6"
      },
      "execution_count": 22,
      "outputs": [
        {
          "output_type": "stream",
          "name": "stdout",
          "text": [
            "0\n"
          ]
        }
      ]
    },
    {
      "cell_type": "markdown",
      "source": [
        "22. How can you check if a file is empty before attempting to read its contents?"
      ],
      "metadata": {
        "id": "uXvp87viYH37"
      }
    },
    {
      "cell_type": "code",
      "source": [
        "import os\n",
        "\n",
        "if os.stat(\"example.txt\").st_size == 0:\n",
        "    print(\"File is empty.\")\n",
        "else:\n",
        "    with open(\"example.txt\", \"r\") as file:\n",
        "        print(file.read())"
      ],
      "metadata": {
        "colab": {
          "base_uri": "https://localhost:8080/"
        },
        "id": "PsrOYU_mYKPM",
        "outputId": "9b41ca33-4e7d-4d77-b8a1-ad7ddd733268"
      },
      "execution_count": 23,
      "outputs": [
        {
          "output_type": "stream",
          "name": "stdout",
          "text": [
            "\n",
            "New line appended.\n"
          ]
        }
      ]
    },
    {
      "cell_type": "markdown",
      "source": [
        "23. Write a Python program that writes to a log file when an error occurs during file handling."
      ],
      "metadata": {
        "id": "tEcznR1rYM9V"
      }
    },
    {
      "cell_type": "code",
      "source": [
        "import logging\n",
        "\n",
        "logging.basicConfig(filename=\"file_errors.log\", level=logging.ERROR)\n",
        "\n",
        "try:\n",
        "    with open(\"nonexistent.txt\", \"r\") as file:\n",
        "        print(file.read())\n",
        "except FileNotFoundError as e:\n",
        "    logging.error(\"File not found: %s\", e)"
      ],
      "metadata": {
        "colab": {
          "base_uri": "https://localhost:8080/"
        },
        "id": "cOucyrMkYOf9",
        "outputId": "4357b25b-6cab-4af1-ecb2-bada3f6f28f6"
      },
      "execution_count": 24,
      "outputs": [
        {
          "output_type": "stream",
          "name": "stderr",
          "text": [
            "ERROR:root:File not found: [Errno 2] No such file or directory: 'nonexistent.txt'\n"
          ]
        }
      ]
    }
  ]
}